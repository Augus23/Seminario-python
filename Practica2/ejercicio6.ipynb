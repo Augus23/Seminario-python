{
 "cells": [
  {
   "cell_type": "code",
   "execution_count": 4,
   "metadata": {},
   "outputs": [],
   "source": [
    "import string\n",
    "\n",
    "phrase = input(\"Ingrese una frase\")\n",
    "\n",
    "word = input(\"Ingrese palabra\")"
   ]
  },
  {
   "cell_type": "code",
   "execution_count": 5,
   "metadata": {},
   "outputs": [
    {
     "name": "stdout",
     "output_type": "stream",
     "text": [
      "Para la palabra: ['Tres', 'tristes', 'tigres,', 'tragaban', 'trigo', 'en', 'un', 'trigal,', 'en', 'tres', 'tristes', 'trastos,', 'tragaban', 'trigo', 'tres', 'tristes', 'tigres.']\n",
      "Palabra: tres\n",
      "Resultado: 3\n"
     ]
    }
   ],
   "source": [
    "phrase = phrase.split()\n",
    "result = 0\n",
    "for word_aux in phrase:\n",
    "    if word == word_aux.lower():\n",
    "        result += 1\n",
    "\n",
    "print(f\"Para la palabra: {phrase}\")\n",
    "print(f\"Palabra: {word}\")\n",
    "print(f\"Resultado: {result}\")"
   ]
  }
 ],
 "metadata": {
  "kernelspec": {
   "display_name": "venv",
   "language": "python",
   "name": "python3"
  },
  "language_info": {
   "codemirror_mode": {
    "name": "ipython",
    "version": 3
   },
   "file_extension": ".py",
   "mimetype": "text/x-python",
   "name": "python",
   "nbconvert_exporter": "python",
   "pygments_lexer": "ipython3",
   "version": "3.11.2"
  }
 },
 "nbformat": 4,
 "nbformat_minor": 2
}
