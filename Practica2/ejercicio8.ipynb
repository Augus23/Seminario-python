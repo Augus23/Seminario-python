{
 "cells": [
  {
   "cell_type": "code",
   "execution_count": 65,
   "metadata": {},
   "outputs": [
    {
     "name": "stdout",
     "output_type": "stream",
     "text": [
      "Es\n"
     ]
    }
   ],
   "source": [
    "import string\n",
    "\n",
    "phrase_word = input(\"Ingrese frase o palabra\")\n",
    "flag = False\n",
    "cont = 0\n",
    "for letter in phrase_word:\n",
    "    cont += 1\n",
    "    if letter in string.ascii_letters:\n",
    "        if letter in phrase_word[cont:len(phrase_word)]:\n",
    "            flag = True\n",
    "            break\n",
    "if flag == True:\n",
    "    print(\"No es\")\n",
    "else:\n",
    "    print(\"Es\")"
   ]
  }
 ],
 "metadata": {
  "kernelspec": {
   "display_name": "venv",
   "language": "python",
   "name": "python3"
  },
  "language_info": {
   "codemirror_mode": {
    "name": "ipython",
    "version": 3
   },
   "file_extension": ".py",
   "mimetype": "text/x-python",
   "name": "python",
   "nbconvert_exporter": "python",
   "pygments_lexer": "ipython3",
   "version": "3.11.2"
  }
 },
 "nbformat": 4,
 "nbformat_minor": 2
}
