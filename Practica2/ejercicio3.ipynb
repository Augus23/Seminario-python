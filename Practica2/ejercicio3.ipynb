{
 "cells": [
  {
   "cell_type": "code",
   "execution_count": 19,
   "metadata": {},
   "outputs": [],
   "source": [
    "import string\n",
    "jupyter_info = \"\"\" JupyterLab is a web-based interactive development\n",
    "environment for Jupyter notebooks, code, and data. JupyterLab is \n",
    "flexible: configure and arrange the user interface to support a wide\n",
    "range of workflows in data science, scientific computing, and machine\n",
    "learning. JupyterLab is extensible and modular: write plugins that add\n",
    "new components and integrate with existing ones. \"\"\"\n"
   ]
  },
  {
   "cell_type": "code",
   "execution_count": 25,
   "metadata": {},
   "outputs": [
    {
     "name": "stdout",
     "output_type": "stream",
     "text": [
      "JupyterLab\n",
      "interactive\n",
      "development\n",
      "environment\n",
      "for\n",
      "Jupyter\n",
      "JupyterLab\n",
      "configure\n",
      "arrange\n",
      "user\n",
      "interface\n",
      "support\n",
      "wide\n",
      "range\n",
      "workflows\n",
      "machine\n",
      "learning.\n",
      "JupyterLab\n",
      "modular:\n",
      "write\n",
      "integrate\n"
     ]
    }
   ],
   "source": [
    "letter = input(\"Ingrese una letra: \")\n",
    "if(string.ascii_letters.__contains__(letter)):\n",
    "    words_list = jupyter_info.split(\" \")\n",
    "    for word in words_list:\n",
    "        if word.__contains__(letter):\n",
    "            print(word)\n",
    "else: print(\"el caracter ingresado no es una letra\")"
   ]
  }
 ],
 "metadata": {
  "kernelspec": {
   "display_name": "venv",
   "language": "python",
   "name": "python3"
  },
  "language_info": {
   "codemirror_mode": {
    "name": "ipython",
    "version": 3
   },
   "file_extension": ".py",
   "mimetype": "text/x-python",
   "name": "python",
   "nbconvert_exporter": "python",
   "pygments_lexer": "ipython3",
   "version": "3.11.2"
  }
 },
 "nbformat": 4,
 "nbformat_minor": 2
}
