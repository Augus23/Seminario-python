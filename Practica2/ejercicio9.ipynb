{
 "cells": [
  {
   "cell_type": "code",
   "execution_count": 1,
   "metadata": {},
   "outputs": [],
   "source": [
    "scrabble = {\"1\":(\"A\",\"E\",\"I\",\"O\",\"U\",\"L\",\"N\",\"R\",\"S\",\"T\"),\n",
    "           \"2\":(\"D\",\"G\"),\n",
    "           \"3\":(\"B\",\"C\",\"M\",\"P\"),\n",
    "           \"4\":(\"F\",\"H\",\"V\",\"W\",\"Y\"),\n",
    "           \"5\":(\"K\"),\n",
    "           \"8\":(\"J\",\"X\"),\n",
    "           \"10\":(\"Q\",\"Z\")}"
   ]
  },
  {
   "cell_type": "code",
   "execution_count": 44,
   "metadata": {},
   "outputs": [
    {
     "name": "stdout",
     "output_type": "stream",
     "text": [
      "Palabra tomate\n",
      "Valor 8\n"
     ]
    }
   ],
   "source": [
    "word = input(\"Ingrese palabra\")\n",
    "points = 0\n",
    "\n",
    "points = sum(int(key) for letter in word.upper() for key, value in scrabble.items() if letter in value)\n",
    "\n",
    "#for letter in word.upper():\n",
    "#    for key,value in scrabble.items():\n",
    "#        if letter in value:\n",
    "#            points += int(key) \n",
    "\n",
    "print(f\"Palabra {word}\")\n",
    "print(f\"Valor {points}\")\n"
   ]
  }
 ],
 "metadata": {
  "kernelspec": {
   "display_name": "venv",
   "language": "python",
   "name": "python3"
  },
  "language_info": {
   "codemirror_mode": {
    "name": "ipython",
    "version": 3
   },
   "file_extension": ".py",
   "mimetype": "text/x-python",
   "name": "python",
   "nbconvert_exporter": "python",
   "pygments_lexer": "ipython3",
   "version": "3.11.2"
  }
 },
 "nbformat": 4,
 "nbformat_minor": 2
}
