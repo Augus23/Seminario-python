{
 "cells": [
  {
   "cell_type": "code",
   "execution_count": 4,
   "metadata": {},
   "outputs": [],
   "source": [
    "import string\n",
    "\n",
    "text = \"\"\" La brecha salarial alcanzó el 27,7%: las mujeres ocupadas\n",
    "debieron trabajar 8 días y 10 horas más que los varones ocupados para\n",
    "ganar lo mismo que ellos en un mes. \"\"\"\n",
    "\n",
    "text = text.split()"
   ]
  },
  {
   "cell_type": "code",
   "execution_count": 6,
   "metadata": {},
   "outputs": [
    {
     "name": "stdout",
     "output_type": "stream",
     "text": [
      "Mayusculas 1\n",
      "Minusculas 120\n",
      "Caracteres no letras 13\n",
      "Cant palabras 23\n"
     ]
    }
   ],
   "source": [
    "upper_case = 0\n",
    "lower_case = 0\n",
    "no_letters = 0\n",
    "phrase_without_noletters = 0\n",
    "\n",
    "for word in text:\n",
    "    aux_no_letters = no_letters\n",
    "    for letter in word:\n",
    "        if letter in string.ascii_uppercase:\n",
    "            upper_case += 1\n",
    "        elif letter in string.ascii_lowercase:\n",
    "            lower_case += 1\n",
    "        else:\n",
    "            no_letters += 1\n",
    "    if aux_no_letters == no_letters:\n",
    "        phrase_without_noletters += 1\n",
    "\n",
    "print(f\"Mayusculas {upper_case}\")\n",
    "print(f\"Minusculas {lower_case}\")\n",
    "print(f\"Caracteres no letras {no_letters}\")\n",
    "print(f\"Cant palabras {phrase_without_noletters}\")\n"
   ]
  }
 ],
 "metadata": {
  "kernelspec": {
   "display_name": "venv",
   "language": "python",
   "name": "python3"
  },
  "language_info": {
   "codemirror_mode": {
    "name": "ipython",
    "version": 3
   },
   "file_extension": ".py",
   "mimetype": "text/x-python",
   "name": "python",
   "nbconvert_exporter": "python",
   "pygments_lexer": "ipython3",
   "version": "3.11.2"
  }
 },
 "nbformat": 4,
 "nbformat_minor": 2
}
